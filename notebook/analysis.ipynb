{
 "cells": [
  {
   "cell_type": "markdown",
   "metadata": {},
   "source": [
    "# Imports and Constants"
   ]
  },
  {
   "cell_type": "code",
   "execution_count": null,
   "metadata": {},
   "outputs": [],
   "source": [
    "import sys\n",
    "if '..' not in sys.path:\n",
    "    sys.path.append('..')"
   ]
  },
  {
   "cell_type": "code",
   "execution_count": null,
   "metadata": {},
   "outputs": [],
   "source": [
    "from pathlib import Path\n",
    "import pickle\n",
    "\n",
    "import matplotlib.pyplot as plt\n",
    "import numpy as np\n",
    "import seaborn as sns\n",
    "\n",
    "from helpers.paths import DATA_DIR\n",
    "\n",
    "CLEAN_DATA_PATH = DATA_DIR / 'clean_data.pkl'"
   ]
  },
  {
   "cell_type": "markdown",
   "metadata": {},
   "source": [
    "# Collect Data"
   ]
  },
  {
   "cell_type": "code",
   "execution_count": null,
   "metadata": {},
   "outputs": [],
   "source": [
    "with CLEAN_DATA_PATH.open(mode='rb') as pkl_file:\n",
    "    data = pickle.load(pkl_file)\n",
    "print(data.shape)\n",
    "print('columns', data.columns)"
   ]
  },
  {
   "cell_type": "markdown",
   "metadata": {},
   "source": [
    "# Analysis"
   ]
  },
  {
   "cell_type": "markdown",
   "metadata": {},
   "source": [
    "## Constrict Data\n",
    "To focus the analysis on this notebook due to time, going to focus on a certain subset of the data: **white, male, and from the United-States**."
   ]
  },
  {
   "cell_type": "code",
   "execution_count": null,
   "metadata": {},
   "outputs": [],
   "source": [
    "focus_data = data[(data['race'] == 'White') & (data['country'] == 'United-States') & (data['sex'] == 'Male')]\n",
    "focus_data = focus_data.drop(['race', 'sex', 'country'], axis=1)\n",
    "print(\"Percentage of data this subgroup represents: {}%\".format(focus_data.shape[0]/data.shape[0]*100))\n",
    "focus_data.head()"
   ]
  },
  {
   "cell_type": "markdown",
   "metadata": {},
   "source": [
    "## Pairplot \n",
    "- This output shows many feature comparisons all at once for initial learnings\n",
    "- Here, we can visualize the distribution of all features\n",
    "- It looks as though capital has some extreme outliers that can be examined.\n",
    "- Can quickly visualize the number of hours per week drop off as individuals pass retirement age"
   ]
  },
  {
   "cell_type": "code",
   "execution_count": null,
   "metadata": {},
   "outputs": [],
   "source": [
    "sns.pairplot(focus_data)"
   ]
  },
  {
   "cell_type": "markdown",
   "metadata": {},
   "source": [
    "## Correlations\n",
    "- Plot from: https://seaborn.pydata.org/examples/many_pairwise_correlations.html\n",
    "- No negative correlations were pulled out\n",
    "- Strong positive correlations were between the number of years of schooling completed and whether an individual earned over 50k a year\n",
    "- Age did not seem to be tied to number of years of school completed, likely because all participants were >= 17 years old\n",
    "- The strong correlations between `over_50k` and other attributes would make it a strong candidate for an automl model"
   ]
  },
  {
   "cell_type": "code",
   "execution_count": null,
   "metadata": {},
   "outputs": [],
   "source": [
    "# Compute the correlation matrix\n",
    "corr = focus_data.corr()\n",
    "\n",
    "# Generate a mask for the upper triangle\n",
    "mask = np.triu(np.ones_like(corr, dtype=bool))\n",
    "\n",
    "# Set up the matplotlib figure\n",
    "f, ax = plt.subplots(figsize=(11, 9))\n",
    "\n",
    "# Generate a custom diverging colormap\n",
    "cmap = sns.diverging_palette(230, 20, as_cmap=True)\n",
    "\n",
    "# Draw the heatmap with the mask and correct aspect ratio\n",
    "sns.heatmap(corr, mask=mask, cmap=cmap, vmax=.3, center=0,\n",
    "            square=True, linewidths=.5, cbar_kws={\"shrink\": .5}).set_title(\"Correlation of white male Americans features\")\n",
    "plt.plot()"
   ]
  },
  {
   "cell_type": "code",
   "execution_count": null,
   "metadata": {},
   "outputs": [],
   "source": []
  }
 ],
 "metadata": {
  "kernelspec": {
   "display_name": "Python 3",
   "language": "python",
   "name": "python3"
  },
  "language_info": {
   "codemirror_mode": {
    "name": "ipython",
    "version": 3
   },
   "file_extension": ".py",
   "mimetype": "text/x-python",
   "name": "python",
   "nbconvert_exporter": "python",
   "pygments_lexer": "ipython3",
   "version": "3.8.5"
  }
 },
 "nbformat": 4,
 "nbformat_minor": 4
}
