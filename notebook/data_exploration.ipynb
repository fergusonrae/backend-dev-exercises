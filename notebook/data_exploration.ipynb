{
 "cells": [
  {
   "cell_type": "markdown",
   "metadata": {},
   "source": [
    "# Imports"
   ]
  },
  {
   "cell_type": "code",
   "execution_count": null,
   "metadata": {},
   "outputs": [],
   "source": [
    "import sys\n",
    "\n",
    "sys.path.append('..')"
   ]
  },
  {
   "cell_type": "code",
   "execution_count": null,
   "metadata": {},
   "outputs": [],
   "source": [
    "import pickle\n",
    "import matplotlib.pyplot as plt\n",
    "import seaborn as sns\n",
    "from helpers.data_read_write import flattened_exercise_to_csv, csv_to_dataframe\n",
    "from helpers.paths import DATA_DIR"
   ]
  },
  {
   "cell_type": "markdown",
   "metadata": {},
   "source": [
    "# Collect Data"
   ]
  },
  {
   "cell_type": "code",
   "execution_count": null,
   "metadata": {},
   "outputs": [],
   "source": [
    "data = csv_to_dataframe(flattened_exercise_to_csv())\n",
    "data.head()"
   ]
  },
  {
   "cell_type": "markdown",
   "metadata": {},
   "source": [
    "# Exploration"
   ]
  },
  {
   "cell_type": "markdown",
   "metadata": {},
   "source": [
    "## 1. Describe data\n",
    "- `id` and `relationship_id` were pulled in as ints, when really they should be string. `id` may actually be better index\n",
    "- `relationship_id` has no corresponding table. Double checked and readme, and not included. Should drop\n",
    "- `education_num` goes up to 16 ~ bachelor's degree\n",
    "- No one is unemployeed. Eveyone has worked at least 1 hour.\n",
    "- May be data inconsistencies in `hours_week`, goes up to 99. Should check distribution.\n",
    "- Everyone is seriously underpaid based on the `over_50k` bool"
   ]
  },
  {
   "cell_type": "code",
   "execution_count": null,
   "metadata": {},
   "outputs": [],
   "source": [
    "data.describe() # Numeric cols"
   ]
  },
  {
   "cell_type": "markdown",
   "metadata": {},
   "source": [
    "## 2. Data info\n",
    "- No null objects. Still need to pull out question mark data"
   ]
  },
  {
   "cell_type": "code",
   "execution_count": null,
   "metadata": {},
   "outputs": [],
   "source": [
    "data.info()"
   ]
  },
  {
   "cell_type": "markdown",
   "metadata": {},
   "source": [
    "## 3. data distributions\n",
    "- There are 10 people who Never-worked, but have hours_week > 0?\n",
    "- `education_num` likely does not include education beyond a bachelor's degree\n",
    "- comparing `education_num` vs `education_level` would liekly give an indication of possible data errors.\n",
    "  - Really, only one of these columns is needed. Prefer `education_num` as it provides a point of reference between levels\n",
    "- Not sure what `Married-AF-spouse` is\n",
    "- Data source is biased towards `White`, `Male`, and `United-States` at levels that are not expected from the country\n",
    "- `Workplace`, `occupation`, and `country` have empty values occassionally"
   ]
  },
  {
   "cell_type": "code",
   "execution_count": null,
   "metadata": {
    "scrolled": true
   },
   "outputs": [],
   "source": [
    "for col in str_cols:\n",
    "    print(\"\\n*********\", col)\n",
    "    print(data[col].value_counts())"
   ]
  },
  {
   "cell_type": "code",
   "execution_count": null,
   "metadata": {},
   "outputs": [],
   "source": [
    "str_cols = data.select_dtypes(object).columns\n",
    "\n",
    "for col in str_cols:\n",
    "    num_attributes = data[col].nunique()\n",
    "    if num_attributes > 15:\n",
    "        print(col, \"too many attributes to effectively show bar plot\")\n",
    "        continue\n",
    "    sns.catplot(x=col, kind=\"count\", palette=\"ch:.25\", data=data, height=4, aspect=num_attributes/3).set_titles(col)"
   ]
  },
  {
   "cell_type": "markdown",
   "metadata": {},
   "source": [
    "## 4. education_num vs education_level\n",
    "- `education_num` + 3 seems to be equivalent to the Amercian number of years to achieve the `education_level`"
   ]
  },
  {
   "cell_type": "code",
   "execution_count": null,
   "metadata": {
    "scrolled": true
   },
   "outputs": [],
   "source": [
    "data[['education_num', 'education_level']].head(30)"
   ]
  },
  {
   "cell_type": "code",
   "execution_count": null,
   "metadata": {},
   "outputs": [],
   "source": [
    "# Make sure the same values always map\n",
    "assert data[['education_num', 'education_level']].drop_duplicates().shape[0] == data['education_num'].nunique()"
   ]
  },
  {
   "cell_type": "markdown",
   "metadata": {},
   "source": [
    "## 5. Specificy data and clear out unknowns ('?')\n",
    "- With more time, would do more research into how to handle. \n",
    "- but I'm having a eck of a time stripping out question marks"
   ]
  },
  {
   "cell_type": "markdown",
   "metadata": {},
   "source": [
    "## 6. capital_gain vs capital_loss\n",
    "- A capital loss is a negative gain. When cleaning this, we can turn it into one column. `capital`"
   ]
  },
  {
   "cell_type": "code",
   "execution_count": null,
   "metadata": {},
   "outputs": [],
   "source": [
    "test_data = data.copy()\n",
    "test_data['capital_sum'] = data['capital_gain'] + data['capital_loss']\n",
    "test_data['capital_max'] = data[['capital_gain', 'capital_loss']].max(axis=1)\n",
    "assert test_data[['capital_sum', 'capital_max']].T.drop_duplicates().shape[0] == 1"
   ]
  },
  {
   "cell_type": "markdown",
   "metadata": {},
   "source": [
    "# Data Cleaning"
   ]
  },
  {
   "cell_type": "code",
   "execution_count": null,
   "metadata": {},
   "outputs": [],
   "source": [
    "clean_data = data.copy()\n",
    "clean_data = clean_data.set_index('id')\n",
    "clean_data['grades_completed'] = clean_data['education_num'] + 3\n",
    "clean_data['capital'] = clean_data['capital_gain'] - clean_data['capital_loss']\n",
    "clean_data = clean_data.drop(['relationship_id', 'capital_gain', 'capital_loss'], axis=1)\n",
    "assert clean_data.shape[0] == data.shape[0]\n",
    "assert clean_data.shape[1] + 2 == data.shape[1]"
   ]
  },
  {
   "cell_type": "code",
   "execution_count": null,
   "metadata": {},
   "outputs": [],
   "source": [
    "# Set as NBCovert so as to not accidentally overwrite\n",
    "# save clean data\n",
    "clean_data_file = DATA_DIR /'clean_data.pkl'\n",
    "with clean_data_file.open(mode='wb') as pkl_file:\n",
    "    pickle.dump(clean_data, pkl_file)"
   ]
  },
  {
   "cell_type": "code",
   "execution_count": null,
   "metadata": {},
   "outputs": [],
   "source": []
  }
 ],
 "metadata": {
  "kernelspec": {
   "display_name": "Python 3",
   "language": "python",
   "name": "python3"
  },
  "language_info": {
   "codemirror_mode": {
    "name": "ipython",
    "version": 3
   },
   "file_extension": ".py",
   "mimetype": "text/x-python",
   "name": "python",
   "nbconvert_exporter": "python",
   "pygments_lexer": "ipython3",
   "version": "3.8.5"
  }
 },
 "nbformat": 4,
 "nbformat_minor": 4
}
